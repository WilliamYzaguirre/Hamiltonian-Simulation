{
 "cells": [
  {
   "cell_type": "markdown",
   "metadata": {},
   "source": [
    "# Hamiltonian Simulation Via Trotter Decomposition\n",
    "\n",
    "Given that any Hamiltonian can be decomposed into a sum of Pauli matrices and coefficients:\n",
    "\n",
    "H = Sum(a*P) where a is a real coefficient and P is a pauli term (any number of pauli matrices tensored together)\n",
    "\n",
    "The evolution of this Hamiltonian can be simulated via the trotter decomposition:\n",
    "\n",
    "U(t) = exp(iHt) = (Π exp(iaPt/r))^r\n",
    "\n",
    "where a is a real coefficient to the Pauli term P, and r is the trotter number"
   ]
  },
  {
   "cell_type": "code",
   "execution_count": 222,
   "metadata": {},
   "outputs": [],
   "source": [
    "import qiskit\n",
    "import numpy as np\n",
    "import sympy\n",
    "from qutip import *"
   ]
  },
  {
   "cell_type": "markdown",
   "metadata": {},
   "source": [
    "From: https://arxiv.org/pdf/1001.3855.pdf\n",
    "\n",
    "We know that the circuit for exp(iZ*Z...Zt) is created simply with CNOT's and an Rz gate\n",
    "\n",
    "The function below creates this circuit for any arbitrary number of pauli z matrices"
   ]
  },
  {
   "cell_type": "code",
   "execution_count": 223,
   "metadata": {},
   "outputs": [
    {
     "data": {
      "text/html": [
       "<pre style=\"word-wrap: normal;white-space: pre;background: #fff0;line-height: 1.1;font-family: &quot;Courier New&quot;,Courier,monospace\">                                    \n",
       "q_0: ──■─────────────────────────■──\n",
       "     ┌─┴─┐                     ┌─┴─┐\n",
       "q_1: ┤ X ├──■───────────────■──┤ X ├\n",
       "     └───┘┌─┴─┐┌─────────┐┌─┴─┐└───┘\n",
       "q_2: ─────┤ X ├┤ Rz(-2π) ├┤ X ├─────\n",
       "          └───┘└─────────┘└───┘     </pre>"
      ],
      "text/plain": [
       "                                    \n",
       "q_0: ──■─────────────────────────■──\n",
       "     ┌─┴─┐                     ┌─┴─┐\n",
       "q_1: ┤ X ├──■───────────────■──┤ X ├\n",
       "     └───┘┌─┴─┐┌─────────┐┌─┴─┐└───┘\n",
       "q_2: ─────┤ X ├┤ Rz(-2π) ├┤ X ├─────\n",
       "          └───┘└─────────┘└───┘     "
      ]
     },
     "execution_count": 223,
     "metadata": {},
     "output_type": "execute_result"
    }
   ],
   "source": [
    "def pauli_z_exp(circ, index, t):\n",
    "    \"\"\"\n",
    "    Creates a circuit for exp(i*Z*Z*...*Z*t)\n",
    "    circ: a quantum circuit\n",
    "    index: list of indexes in circ that correspond to pauli matrices (I not included)\n",
    "    t: time (t in exp)\n",
    "    \"\"\"\n",
    "    for i in range(len(index)-1):\n",
    "        circ.cx(index[i], index[i+1])\n",
    "    circ.rz(-2*t, index[-1])\n",
    "    for i in range(len(index)-1, 0, -1):\n",
    "        qc.cx(index[i-1], index[i])\n",
    "        \n",
    "qc = qiskit.QuantumCircuit(3)\n",
    "pauli_z_exp(qc, [0,1,2], np.pi)\n",
    "qc.draw()"
   ]
  },
  {
   "cell_type": "markdown",
   "metadata": {},
   "source": [
    "Similarly from: https://arxiv.org/pdf/1001.3855.pdf\n",
    "\n",
    "We know that any pauli gate can be tranformed into pauli Z gates. X with hadamards, and Y with u2(pi/2) gates.\n",
    "\n",
    "The function below does this for an arbitrary number of pauli matrices"
   ]
  },
  {
   "cell_type": "code",
   "execution_count": 224,
   "metadata": {},
   "outputs": [
    {
     "data": {
      "text/html": [
       "<pre style=\"word-wrap: normal;white-space: pre;background: #fff0;line-height: 1.1;font-family: &quot;Courier New&quot;,Courier,monospace\">                                                                        \n",
       "q_0: ────────────────────■───────────────────────────────■──────────────\n",
       "           ┌───┐       ┌─┴─┐                           ┌─┴─┐       ┌───┐\n",
       "q_1: ──────┤ H ├───────┤ X ├──■───────────────■────────┤ X ├───────┤ H ├\n",
       "     ┌─────┴───┴──────┐└───┘┌─┴─┐┌─────────┐┌─┴─┐┌─────┴───┴──────┐└───┘\n",
       "q_2: ┤ U(π/2,π/2,π/2) ├─────┤ X ├┤ Rz(-2π) ├┤ X ├┤ U(π/2,π/2,π/2) ├─────\n",
       "     └────────────────┘     └───┘└─────────┘└───┘└────────────────┘     </pre>"
      ],
      "text/plain": [
       "                                                                        \n",
       "q_0: ────────────────────■───────────────────────────────■──────────────\n",
       "           ┌───┐       ┌─┴─┐                           ┌─┴─┐       ┌───┐\n",
       "q_1: ──────┤ H ├───────┤ X ├──■───────────────■────────┤ X ├───────┤ H ├\n",
       "     ┌─────┴───┴──────┐└───┘┌─┴─┐┌─────────┐┌─┴─┐┌─────┴───┴──────┐└───┘\n",
       "q_2: ┤ U(π/2,π/2,π/2) ├─────┤ X ├┤ Rz(-2π) ├┤ X ├┤ U(π/2,π/2,π/2) ├─────\n",
       "     └────────────────┘     └───┘└─────────┘└───┘└────────────────┘     "
      ]
     },
     "execution_count": 224,
     "metadata": {},
     "output_type": "execute_result"
    }
   ],
   "source": [
    "def pauli_string_exp(paulis, circ, index, t):   \n",
    "    \"\"\"\n",
    "    Creates a circuit for exp(i*P*t) where P is any number of tensored pauli matrices\n",
    "    circ: a quantum circuit\n",
    "    index: list of indexes in circ that correspond to pauli matrices\n",
    "    t: time (t in exp)\n",
    "    \"\"\"\n",
    "    xyz_paulis = []\n",
    "    xyz_index = []\n",
    "    for i in range(len(paulis)):\n",
    "        if paulis[i] != 'I':\n",
    "            xyz_paulis.append(paulis[i])\n",
    "            xyz_index.append(index[i])\n",
    "    \n",
    "    for i in range(len(xyz_paulis)):\n",
    "        if xyz_paulis[i] == 'X':\n",
    "            circ.h(xyz_index[i])\n",
    "        elif xyz_paulis[i] == 'Y':\n",
    "            circ.u(np.pi/2, np.pi/2, np.pi/2, xyz_index[i])\n",
    "            \n",
    "    pauli_z_exp(circ, xyz_index, t)\n",
    "    \n",
    "    for i in range(len(xyz_paulis)):\n",
    "        if xyz_paulis[i] == 'X':\n",
    "            circ.h(xyz_index[i])\n",
    "        elif xyz_paulis[i] == 'Y':\n",
    "            circ.u(np.pi/2, np.pi/2, np.pi/2, xyz_index[i])\n",
    "            \n",
    "qc = qiskit.QuantumCircuit(3)\n",
    "pauli_string_exp('ZXY', qc, [0,1,2], np.pi)\n",
    "qc.draw()\n",
    "    "
   ]
  },
  {
   "cell_type": "markdown",
   "metadata": {},
   "source": [
    "The function below takes in a hamiltonian decomposed with pauli matrices and creates the full circuit used for simulation"
   ]
  },
  {
   "cell_type": "code",
   "execution_count": 225,
   "metadata": {},
   "outputs": [
    {
     "data": {
      "text/html": [
       "<pre style=\"word-wrap: normal;white-space: pre;background: #fff0;line-height: 1.1;font-family: &quot;Courier New&quot;,Courier,monospace\">           ┌───┐                                           ┌───┐       »\n",
       "q_0: ──────┤ H ├─────────■────────────────────────■────────┤ H ├───────»\n",
       "     ┌─────┴───┴──────┐┌─┴─┐                    ┌─┴─┐┌─────┴───┴──────┐»\n",
       "q_1: ┤ U(π/2,π/2,π/2) ├┤ X ├──■──────────────■──┤ X ├┤ U(π/2,π/2,π/2) ├»\n",
       "     └────────────────┘└───┘┌─┴─┐┌────────┐┌─┴─┐└───┘└────────────────┘»\n",
       "q_2: ───────────────────────┤ X ├┤ Rz(-π) ├┤ X ├───────────────────────»\n",
       "                            └───┘└────────┘└───┘                       »\n",
       "«     ┌────────────────┐                    ┌────────────────┐»\n",
       "«q_0: ┤ U(π/2,π/2,π/2) ├──■──────────────■──┤ U(π/2,π/2,π/2) ├»\n",
       "«     ├────────────────┤┌─┴─┐┌────────┐┌─┴─┐├────────────────┤»\n",
       "«q_1: ┤ U(π/2,π/2,π/2) ├┤ X ├┤ Rz(-π) ├┤ X ├┤ U(π/2,π/2,π/2) ├»\n",
       "«     └────────────────┘└───┘└────────┘└───┘└────────────────┘»\n",
       "«q_2: ────────────────────────────────────────────────────────»\n",
       "«                                                             »\n",
       "«           ┌───┐                                           ┌───┐       »\n",
       "«q_0: ──────┤ H ├─────────■────────────────────────■────────┤ H ├───────»\n",
       "«     ┌─────┴───┴──────┐┌─┴─┐                    ┌─┴─┐┌─────┴───┴──────┐»\n",
       "«q_1: ┤ U(π/2,π/2,π/2) ├┤ X ├──■──────────────■──┤ X ├┤ U(π/2,π/2,π/2) ├»\n",
       "«     └────────────────┘└───┘┌─┴─┐┌────────┐┌─┴─┐└───┘└────────────────┘»\n",
       "«q_2: ───────────────────────┤ X ├┤ Rz(-π) ├┤ X ├───────────────────────»\n",
       "«                            └───┘└────────┘└───┘                       »\n",
       "«     ┌────────────────┐                    ┌────────────────┐\n",
       "«q_0: ┤ U(π/2,π/2,π/2) ├──■──────────────■──┤ U(π/2,π/2,π/2) ├\n",
       "«     ├────────────────┤┌─┴─┐┌────────┐┌─┴─┐├────────────────┤\n",
       "«q_1: ┤ U(π/2,π/2,π/2) ├┤ X ├┤ Rz(-π) ├┤ X ├┤ U(π/2,π/2,π/2) ├\n",
       "«     └────────────────┘└───┘└────────┘└───┘└────────────────┘\n",
       "«q_2: ────────────────────────────────────────────────────────\n",
       "«                                                             </pre>"
      ],
      "text/plain": [
       "           ┌───┐                                           ┌───┐       »\n",
       "q_0: ──────┤ H ├─────────■────────────────────────■────────┤ H ├───────»\n",
       "     ┌─────┴───┴──────┐┌─┴─┐                    ┌─┴─┐┌─────┴───┴──────┐»\n",
       "q_1: ┤ U(π/2,π/2,π/2) ├┤ X ├──■──────────────■──┤ X ├┤ U(π/2,π/2,π/2) ├»\n",
       "     └────────────────┘└───┘┌─┴─┐┌────────┐┌─┴─┐└───┘└────────────────┘»\n",
       "q_2: ───────────────────────┤ X ├┤ Rz(-π) ├┤ X ├───────────────────────»\n",
       "                            └───┘└────────┘└───┘                       »\n",
       "«     ┌────────────────┐                    ┌────────────────┐»\n",
       "«q_0: ┤ U(π/2,π/2,π/2) ├──■──────────────■──┤ U(π/2,π/2,π/2) ├»\n",
       "«     ├────────────────┤┌─┴─┐┌────────┐┌─┴─┐├────────────────┤»\n",
       "«q_1: ┤ U(π/2,π/2,π/2) ├┤ X ├┤ Rz(-π) ├┤ X ├┤ U(π/2,π/2,π/2) ├»\n",
       "«     └────────────────┘└───┘└────────┘└───┘└────────────────┘»\n",
       "«q_2: ────────────────────────────────────────────────────────»\n",
       "«                                                             »\n",
       "«           ┌───┐                                           ┌───┐       »\n",
       "«q_0: ──────┤ H ├─────────■────────────────────────■────────┤ H ├───────»\n",
       "«     ┌─────┴───┴──────┐┌─┴─┐                    ┌─┴─┐┌─────┴───┴──────┐»\n",
       "«q_1: ┤ U(π/2,π/2,π/2) ├┤ X ├──■──────────────■──┤ X ├┤ U(π/2,π/2,π/2) ├»\n",
       "«     └────────────────┘└───┘┌─┴─┐┌────────┐┌─┴─┐└───┘└────────────────┘»\n",
       "«q_2: ───────────────────────┤ X ├┤ Rz(-π) ├┤ X ├───────────────────────»\n",
       "«                            └───┘└────────┘└───┘                       »\n",
       "«     ┌────────────────┐                    ┌────────────────┐\n",
       "«q_0: ┤ U(π/2,π/2,π/2) ├──■──────────────■──┤ U(π/2,π/2,π/2) ├\n",
       "«     ├────────────────┤┌─┴─┐┌────────┐┌─┴─┐├────────────────┤\n",
       "«q_1: ┤ U(π/2,π/2,π/2) ├┤ X ├┤ Rz(-π) ├┤ X ├┤ U(π/2,π/2,π/2) ├\n",
       "«     └────────────────┘└───┘└────────┘└───┘└────────────────┘\n",
       "«q_2: ────────────────────────────────────────────────────────\n",
       "«                                                             "
      ]
     },
     "execution_count": 225,
     "metadata": {},
     "output_type": "execute_result"
    }
   ],
   "source": [
    "def hamiltonian_sim(hammy, circ, index, t, trotter=1):\n",
    "    \"\"\"\n",
    "    Creates and RETURNS a circuit for a hamiltonian expressed in trotter decomposition\n",
    "    hammy: dictionary representation of hamiltonian expressed in trotter decomposition\n",
    "           key is string of pauli matrices P (pauli x is X, pauli y is Y, etc)\n",
    "           value is weight of P\n",
    "           e.g. {'XXY': 4, 'IYY': 6, 'XYZ': 7}\n",
    "    circ: a quantum circuit\n",
    "    index: list of indexes in circ that correspond to pauli matrices\n",
    "    t: time (t in exp)\n",
    "    trotter: the trotter number\n",
    "    \"\"\"\n",
    "    # So I should be able to feed temp into pauli_string_exp then compose it onto circ and not have to return anything.\n",
    "    # But for some reason, python doesn't like that and it destroys the circuit... I don't know why, I've tried so many\n",
    "    # different ways of getting this to work, and for some reason this is the only way that it works. So we'll keep it\n",
    "    temp = qiskit.QuantumCircuit(len(index))\n",
    "    delta = t/trotter\n",
    "    for pauli in hammy:\n",
    "        pauli_string_exp(pauli, circ, range(len(index)), hammy[pauli] * delta)\n",
    "                \n",
    "    for i in range(trotter):\n",
    "        temp.compose(circ, index, inplace=True)\n",
    "        \n",
    "    return temp\n",
    "        \n",
    "hammy_test = {'XYZ': 2, \"YYI\": 2}\n",
    "qc = qiskit.QuantumCircuit(3)\n",
    "t = hamiltonian_sim(hammy_test, qc, [0,1,2], 1/2*np.pi, 2)\n",
    "t.draw()"
   ]
  },
  {
   "cell_type": "markdown",
   "metadata": {},
   "source": [
    "Now we will simulate the circuit using qiskit and the circuit method, then with qutip to check our result.\n",
    "\n",
    "We will start by simulating the hamiltonian: \n",
    "\n",
    "H = 2*XZY + 5*ZXX + 2*YXZ\n",
    "\n",
    "With r = 50 and t = 1/2pi, which should give us an error bound of ε = t^2/r = (1/2pi)^2 / 50 = .0005"
   ]
  },
  {
   "cell_type": "code",
   "execution_count": 234,
   "metadata": {},
   "outputs": [
    {
     "data": {
      "text/latex": [
       "$\\displaystyle \\left[\\begin{matrix}0.62069\\\\0\\\\0\\\\0.0279 + 0.66576 i\\\\0\\\\-0.26743 + 0.23046 i\\\\-0.21432 + 0.01279 i\\\\0\\end{matrix}\\right]$"
      ],
      "text/plain": [
       "Matrix([\n",
       "[             0.62069],\n",
       "[                   0],\n",
       "[                   0],\n",
       "[  0.0279 + 0.66576*I],\n",
       "[                   0],\n",
       "[-0.26743 + 0.23046*I],\n",
       "[-0.21432 + 0.01279*I],\n",
       "[                   0]])"
      ]
     },
     "execution_count": 234,
     "metadata": {},
     "output_type": "execute_result"
    }
   ],
   "source": [
    "qc = qiskit.QuantumCircuit(3)\n",
    "ham_circ = hamiltonian_sim({\"XZY\": 2, \"ZXX\": 5, \"YXZ\": 2}, qc, [0, 1, 2], 1/(2*np.pi), trotter=50)\n",
    "\n",
    "ham_circ = ham_circ.reverse_bits()\n",
    "\n",
    "backend = qiskit.Aer.get_backend('statevector_simulator')\n",
    "result  = qiskit.execute(ham_circ, backend).result()\n",
    "vec = result.get_statevector()\n",
    "vec = vec / vec[0] # global phase\n",
    "qvec = vec / np.linalg.norm(vec) # normalize\n",
    "sympy.Matrix(np.round(qvec, 5))"
   ]
  },
  {
   "cell_type": "code",
   "execution_count": 214,
   "metadata": {},
   "outputs": [
    {
     "data": {
      "text/latex": [
       "$\\displaystyle \\left[\\begin{matrix}0.6202 - 0.02471 i\\\\0\\\\0\\\\- 0.66635 i\\\\0\\\\0.27642 + 0.21964 i\\\\0.21465\\\\0\\end{matrix}\\right]$"
      ],
      "text/plain": [
       "Matrix([\n",
       "[ 0.6202 - 0.02471*I],\n",
       "[                  0],\n",
       "[                  0],\n",
       "[         -0.66635*I],\n",
       "[                  0],\n",
       "[0.27642 + 0.21964*I],\n",
       "[            0.21465],\n",
       "[                  0]])"
      ]
     },
     "execution_count": 214,
     "metadata": {},
     "output_type": "execute_result"
    }
   ],
   "source": [
    "H0 = 2*tensor(sigmax(),sigmaz(),sigmay())\n",
    "H1 = 5*tensor(sigmaz(),sigmax(),sigmax())\n",
    "H2 = 2*tensor(sigmay(),sigmax(),sigmaz())\n",
    "\n",
    "H = H0 + H1 + H2\n",
    "psi0 = basis(8,0)\n",
    "\n",
    "t = np.linspace(0, 1/(2*np.pi), 300)\n",
    "\n",
    "solv = sesolve(H, psi0, t)\n",
    "sympy.Matrix(np.round(solv.states[-1], 5))"
   ]
  },
  {
   "cell_type": "markdown",
   "metadata": {},
   "source": [
    "As you can see, our results are very close, though there appears to be an issue with signs.\n",
    "\n",
    "Let's try again with 2 more hamiltonians:"
   ]
  },
  {
   "cell_type": "code",
   "execution_count": 230,
   "metadata": {},
   "outputs": [
    {
     "data": {
      "text/latex": [
       "$\\displaystyle \\left[\\begin{matrix}0.65467\\\\-0.28551 + 0.69992 i\\\\0\\\\0\\end{matrix}\\right]$"
      ],
      "text/plain": [
       "Matrix([\n",
       "[             0.65467],\n",
       "[-0.28551 + 0.69992*I],\n",
       "[                   0],\n",
       "[                   0]])"
      ]
     },
     "execution_count": 230,
     "metadata": {},
     "output_type": "execute_result"
    }
   ],
   "source": [
    "qc = qiskit.QuantumCircuit(2)\n",
    "ham_circ = hamiltonian_sim({\"ZY\": 2, \"ZX\": 5}, qc, [0, 1], 1/(2*np.pi), trotter=50)\n",
    "\n",
    "ham_circ = ham_circ.reverse_bits()\n",
    "\n",
    "backend = qiskit.Aer.get_backend('statevector_simulator')\n",
    "result  = qiskit.execute(ham_circ, backend).result()\n",
    "vec = result.get_statevector()\n",
    "vec = vec / vec[0] # global phase\n",
    "qvec = vec / np.linalg.norm(vec) # normalize\n",
    "sympy.Matrix(np.round(qvec, 5))"
   ]
  },
  {
   "cell_type": "code",
   "execution_count": 231,
   "metadata": {},
   "outputs": [
    {
     "data": {
      "text/latex": [
       "$\\displaystyle \\left[\\begin{matrix}0.65465\\\\0.28075 - 0.70186 i\\\\0\\\\0\\end{matrix}\\right]$"
      ],
      "text/plain": [
       "Matrix([\n",
       "[            0.65465],\n",
       "[0.28075 - 0.70186*I],\n",
       "[                  0],\n",
       "[                  0]])"
      ]
     },
     "execution_count": 231,
     "metadata": {},
     "output_type": "execute_result"
    }
   ],
   "source": [
    "H0 = 2*tensor(sigmaz(),sigmay())\n",
    "H1 = 5*tensor(sigmaz(),sigmax())\n",
    "\n",
    "H = H0 + H1\n",
    "psi0 = basis(4,0)\n",
    "\n",
    "t = np.linspace(0, 1/(2*np.pi), 300)\n",
    "\n",
    "solv = sesolve(H, psi0, t)\n",
    "sympy.Matrix(np.round(solv.states[-1], 5))"
   ]
  },
  {
   "cell_type": "code",
   "execution_count": 232,
   "metadata": {},
   "outputs": [
    {
     "data": {
      "text/latex": [
       "$\\displaystyle \\left[\\begin{matrix}0.65465\\\\0\\\\0\\\\0.00447\\\\-0.28072\\\\0\\\\0\\\\-0.70186\\\\0\\\\0\\\\0\\\\0\\\\0\\\\0\\\\0\\\\0\\end{matrix}\\right]$"
      ],
      "text/plain": [
       "Matrix([\n",
       "[ 0.65465],\n",
       "[       0],\n",
       "[       0],\n",
       "[ 0.00447],\n",
       "[-0.28072],\n",
       "[       0],\n",
       "[       0],\n",
       "[-0.70186],\n",
       "[       0],\n",
       "[       0],\n",
       "[       0],\n",
       "[       0],\n",
       "[       0],\n",
       "[       0],\n",
       "[       0],\n",
       "[       0]])"
      ]
     },
     "execution_count": 232,
     "metadata": {},
     "output_type": "execute_result"
    }
   ],
   "source": [
    "qc = qiskit.QuantumCircuit(4)\n",
    "ham_circ = hamiltonian_sim({\"ZYZZ\": 2, \"ZXYX\": 5}, qc, [0, 1, 2, 3], 1/(2*np.pi), trotter=50)\n",
    "\n",
    "ham_circ = ham_circ.reverse_bits()\n",
    "\n",
    "backend = qiskit.Aer.get_backend('statevector_simulator')\n",
    "result  = qiskit.execute(ham_circ, backend).result()\n",
    "vec = result.get_statevector()\n",
    "vec = vec / vec[0] # global phase\n",
    "qvec = vec / np.linalg.norm(vec) # normalize\n",
    "sympy.Matrix(np.round(qvec, 5))"
   ]
  },
  {
   "cell_type": "code",
   "execution_count": 233,
   "metadata": {},
   "outputs": [
    {
     "data": {
      "text/latex": [
       "$\\displaystyle \\left[\\begin{matrix}0.65465\\\\0\\\\0\\\\0\\\\0.28075\\\\0\\\\0\\\\0.70186\\\\0\\\\0\\\\0\\\\0\\\\0\\\\0\\\\0\\\\0\\end{matrix}\\right]$"
      ],
      "text/plain": [
       "Matrix([\n",
       "[0.65465],\n",
       "[      0],\n",
       "[      0],\n",
       "[      0],\n",
       "[0.28075],\n",
       "[      0],\n",
       "[      0],\n",
       "[0.70186],\n",
       "[      0],\n",
       "[      0],\n",
       "[      0],\n",
       "[      0],\n",
       "[      0],\n",
       "[      0],\n",
       "[      0],\n",
       "[      0]])"
      ]
     },
     "execution_count": 233,
     "metadata": {},
     "output_type": "execute_result"
    }
   ],
   "source": [
    "H0 = 2*tensor(sigmaz(),sigmay(),sigmaz(),sigmaz())\n",
    "H1 = 5*tensor(sigmaz(),sigmax(),sigmay(),sigmax())\n",
    "\n",
    "H = H0 + H1\n",
    "psi0 = basis(16,0)\n",
    "\n",
    "t = np.linspace(0, 1/(2*np.pi), 300)\n",
    "\n",
    "solv = sesolve(H, psi0, t)\n",
    "sympy.Matrix(np.round(solv.states[-1], 5))"
   ]
  },
  {
   "cell_type": "markdown",
   "metadata": {},
   "source": [
    "While all of the results are quite close, there does seem to be a continuing issue with signs when simulating the hamiltonians."
   ]
  },
  {
   "cell_type": "code",
   "execution_count": null,
   "metadata": {},
   "outputs": [],
   "source": []
  }
 ],
 "metadata": {
  "kernelspec": {
   "display_name": "Python 3",
   "language": "python",
   "name": "python3"
  },
  "language_info": {
   "codemirror_mode": {
    "name": "ipython",
    "version": 3
   },
   "file_extension": ".py",
   "mimetype": "text/x-python",
   "name": "python",
   "nbconvert_exporter": "python",
   "pygments_lexer": "ipython3",
   "version": "3.8.3"
  }
 },
 "nbformat": 4,
 "nbformat_minor": 4
}
